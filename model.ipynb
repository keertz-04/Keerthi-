{
 "cells": [
  {
   "cell_type": "markdown",
   "id": "041d98c1",
   "metadata": {},
   "source": [
    "# AI-Powered Disease Prediction\n",
    "This notebook demonstrates an end-to-end machine learning pipeline to predict diseases based on patient data."
   ]
  },
  {
   "cell_type": "code",
   "execution_count": null,
   "id": "6f01df5c",
   "metadata": {},
   "outputs": [],
   "source": [
    "import pandas as pd\n",
    "import numpy as np\n",
    "import matplotlib.pyplot as plt\n",
    "import seaborn as sns\n",
    "from sklearn.model_selection import train_test_split\n",
    "from sklearn.ensemble import RandomForestClassifier\n",
    "from sklearn.metrics import classification_report, confusion_matrix"
   ]
  },
  {
   "cell_type": "code",
   "execution_count": null,
   "id": "378b2880",
   "metadata": {},
   "outputs": [],
   "source": [
    "# Load your dataset here\n",
    "# df = pd.read_csv('your_dataset.csv')\n",
    "df = pd.DataFrame({\n",
    "    'age': [45, 54, 63, 36, 52],\n",
    "    'sex': [1, 0, 1, 1, 0],\n",
    "    'cholesterol': [233, 250, 180, 200, 210],\n",
    "    'target': [1, 0, 1, 0, 1]\n",
    "})\n",
    "df.head()"
   ]
  },
  {
   "cell_type": "code",
   "execution_count": null,
   "id": "f52b195e",
   "metadata": {},
   "outputs": [],
   "source": [
    "# Preprocessing\n",
    "X = df.drop('target', axis=1)\n",
    "y = df['target']\n",
    "X_train, X_test, y_train, y_test = train_test_split(X, y, test_size=0.2, random_state=42)"
   ]
  },
  {
   "cell_type": "code",
   "execution_count": null,
   "id": "0e422023",
   "metadata": {},
   "outputs": [],
   "source": [
    "# Train model\n",
    "model = RandomForestClassifier(n_estimators=100, random_state=42)\n",
    "model.fit(X_train, y_train)"
   ]
  },
  {
   "cell_type": "code",
   "execution_count": null,
   "id": "2ad0d964",
   "metadata": {},
   "outputs": [],
   "source": [
    "# Evaluation\n",
    "y_pred = model.predict(X_test)\n",
    "print(confusion_matrix(y_test, y_pred))\n",
    "print(classification_report(y_test, y_pred))"
   ]
  }
 ],
 "metadata": {},
 "nbformat": 4,
 "nbformat_minor": 5
}
